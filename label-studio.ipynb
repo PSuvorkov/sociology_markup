{
 "cells": [
  {
   "cell_type": "code",
   "execution_count": 11,
   "metadata": {},
   "outputs": [],
   "source": [
    "import json\n",
    "import os"
   ]
  },
  {
   "cell_type": "code",
   "execution_count": 9,
   "metadata": {},
   "outputs": [],
   "source": [
    "fn = \"мальчик_и_девочка_подлесье.txt\""
   ]
  },
  {
   "cell_type": "code",
   "execution_count": 19,
   "metadata": {},
   "outputs": [],
   "source": [
    "with open(fn, \"r\") as f:\n",
    "    senses = f.readlines()\n",
    "    \n",
    "with open(\"исследовательские вопросы_1911_2.txt\", \"r\") as f:\n",
    "    questions = f.readlines()\n",
    "questions.append(\"Ни одна из тем не подходит.\")"
   ]
  },
  {
   "cell_type": "code",
   "execution_count": 20,
   "metadata": {},
   "outputs": [],
   "source": [
    "label_data = []\n",
    "for sense in senses:\n",
    "    cluster_data = {}\n",
    "    cluster_data[\"data\"] = {\"my_text\": sense}               \n",
    "    cluster_data[\"data\"][\"variants\"] = [\n",
    "        {\"value\": quest} for quest in questions if quest.strip()\n",
    "    ]\n",
    "    label_data.append(cluster_data)"
   ]
  },
  {
   "cell_type": "code",
   "execution_count": 21,
   "metadata": {},
   "outputs": [],
   "source": [
    "with open(os.path.expanduser(f\"label-studio-{fn}.json\"), \"w\") as f:\n",
    "    json.dump(label_data, f)"
   ]
  }
 ],
 "metadata": {
  "kernelspec": {
   "display_name": "untitled",
   "language": "python",
   "name": "untitled"
  },
  "language_info": {
   "codemirror_mode": {
    "name": "ipython",
    "version": 3
   },
   "file_extension": ".py",
   "mimetype": "text/x-python",
   "name": "python",
   "nbconvert_exporter": "python",
   "pygments_lexer": "ipython3",
   "version": "3.8.10"
  }
 },
 "nbformat": 4,
 "nbformat_minor": 4
}
